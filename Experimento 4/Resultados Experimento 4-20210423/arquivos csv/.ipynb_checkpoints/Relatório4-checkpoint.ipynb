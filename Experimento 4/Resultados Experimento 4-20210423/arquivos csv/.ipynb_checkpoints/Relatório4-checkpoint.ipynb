{
 "cells": [
  {
   "cell_type": "code",
   "execution_count": 128,
   "metadata": {},
   "outputs": [],
   "source": [
    "import pandas as pd\n",
    "import seaborn as srn\n",
    "import statistics  as sts\n",
    "import matplotlib.pyplot as plt\n",
    "import numpy as np\n",
    "from scipy.optimize import curve_fit\n",
    "from sympy import *"
   ]
  },
  {
   "cell_type": "code",
   "execution_count": 82,
   "metadata": {},
   "outputs": [
    {
     "data": {
      "text/html": [
       "<div>\n",
       "<style scoped>\n",
       "    .dataframe tbody tr th:only-of-type {\n",
       "        vertical-align: middle;\n",
       "    }\n",
       "\n",
       "    .dataframe tbody tr th {\n",
       "        vertical-align: top;\n",
       "    }\n",
       "\n",
       "    .dataframe thead th {\n",
       "        text-align: right;\n",
       "    }\n",
       "</style>\n",
       "<table border=\"1\" class=\"dataframe\">\n",
       "  <thead>\n",
       "    <tr style=\"text-align: right;\">\n",
       "      <th></th>\n",
       "      <th>index</th>\n",
       "      <th>Load(kN)</th>\n",
       "      <th>Defor(mm)</th>\n",
       "      <th>Stroke(mm)</th>\n",
       "      <th>Time(s)</th>\n",
       "    </tr>\n",
       "  </thead>\n",
       "  <tbody>\n",
       "    <tr>\n",
       "      <th>1636</th>\n",
       "      <td>1636</td>\n",
       "      <td>0.1</td>\n",
       "      <td>8.1825</td>\n",
       "      <td>8.182</td>\n",
       "      <td>98.155</td>\n",
       "    </tr>\n",
       "    <tr>\n",
       "      <th>1637</th>\n",
       "      <td>1637</td>\n",
       "      <td>0.1</td>\n",
       "      <td>8.1875</td>\n",
       "      <td>8.188</td>\n",
       "      <td>98.215</td>\n",
       "    </tr>\n",
       "    <tr>\n",
       "      <th>1638</th>\n",
       "      <td>1638</td>\n",
       "      <td>0.1</td>\n",
       "      <td>8.1925</td>\n",
       "      <td>8.193</td>\n",
       "      <td>98.275</td>\n",
       "    </tr>\n",
       "    <tr>\n",
       "      <th>1639</th>\n",
       "      <td>1639</td>\n",
       "      <td>0.1</td>\n",
       "      <td>8.1975</td>\n",
       "      <td>8.198</td>\n",
       "      <td>98.335</td>\n",
       "    </tr>\n",
       "    <tr>\n",
       "      <th>1640</th>\n",
       "      <td>1640</td>\n",
       "      <td>0.1</td>\n",
       "      <td>8.2025</td>\n",
       "      <td>8.202</td>\n",
       "      <td>98.395</td>\n",
       "    </tr>\n",
       "  </tbody>\n",
       "</table>\n",
       "</div>"
      ],
      "text/plain": [
       "      index  Load(kN)  Defor(mm)  Stroke(mm)  Time(s)\n",
       "1636   1636       0.1     8.1825       8.182   98.155\n",
       "1637   1637       0.1     8.1875       8.188   98.215\n",
       "1638   1638       0.1     8.1925       8.193   98.275\n",
       "1639   1639       0.1     8.1975       8.198   98.335\n",
       "1640   1640       0.1     8.2025       8.202   98.395"
      ]
     },
     "execution_count": 82,
     "metadata": {},
     "output_type": "execute_result"
    }
   ],
   "source": [
    "dadosAcoTemp = pd.read_csv(\"açoTemp.csv\",sep=\";\")\n",
    "Area_0 = 48.3982 #mm2\n",
    "diâmetro = 7.85 #mm \n",
    "GaugeLength =  50.00 #mm2\n",
    "dadosAcoTemp.tail()"
   ]
  },
  {
   "cell_type": "code",
   "execution_count": 147,
   "metadata": {},
   "outputs": [
    {
     "data": {
      "image/png": "[encoded data removed]",
      "text/plain": [
       "<Figure size 432x288 with 1 Axes>"
      ]
     },
     "metadata": {
      "needs_background": "light"
     },
     "output_type": "display_data"
    }
   ],
   "source": [
    "load = np.array(dadosAcoTemp.iloc[:,1])\n",
    "tension = (load*1000/(Area_0))     #em tensão MPa\n",
    "deformation = ((np.array(dadosAcoTemp.iloc[:,2]))/(GaugeLength))*100   #em porcentagem\n",
    "plt.scatter(x=deformation,y=tension,s=2)\n",
    "plt.title(\"Curva Tensão x Deformação do Aço Temperado\")\n",
    "plt.xlabel(\"Deformação (%)\")\n",
    "plt.ylabel('Tensão (MPa)')\n",
    "plt.tight_layout()\n",
    "plt.axis((0,16,0,1080))\n",
    "plt.grid(True)"
   ]
  },
  {
   "cell_type": "code",
   "execution_count": 148,
   "metadata": {},
   "outputs": [],
   "source": [
    "#Considerando que de 10 a 12.5% de deformação temos uma região linear de deformação elástica\n",
    "deformationA = np.array(deformation)\n",
    "tensionA = np.array(tension)\n",
    "elastico = np.where((deformationA>10)&(deformationA<12.5))"
   ]
  },
  {
   "cell_type": "code",
   "execution_count": 149,
   "metadata": {},
   "outputs": [],
   "source": [
    "# objective function\n",
    "def objective(x, a, b, c):\n",
    "    return a * x + b\n",
    "param, b = curve_fit(objective, deformationA[elastico], tensionA[elastico])"
   ]
  },
  {
   "cell_type": "code",
   "execution_count": 151,
   "metadata": {},
   "outputs": [
    {
     "data": {
      "text/plain": [
       "858.6922358482434"
      ]
     },
     "execution_count": 151,
     "metadata": {},
     "output_type": "execute_result"
    }
   ],
   "source": [
    "#print(param)\n",
    "LimEsc = 1012.5 #Mpa\n",
    "alonga_final = 15.5 #%\n",
    "modResiliencia = (LimEsc * alonga_final)/2\n",
    "#print(modResiliencia)\n",
    "param[1] + param[0]*14"
   ]
  },
  {
   "cell_type": "code",
   "execution_count": 172,
   "metadata": {},
   "outputs": [],
   "source": [
    "dadosAcoRev = pd.read_csv(\"açoRev.csv\",sep=\";\")\n",
    "Area_0 = 49.0167 #mm2\n",
    "D_0 = 7.90 #mm - Diâmetro\n",
    "GaugeLength =  50.00 #mm"
   ]
  },
  {
   "cell_type": "code",
   "execution_count": 195,
   "metadata": {},
   "outputs": [
    {
     "data": {
      "image/png": "[encoded data removed]",
      "text/plain": [
       "<Figure size 432x288 with 1 Axes>"
      ]
     },
     "metadata": {
      "needs_background": "light"
     },
     "output_type": "display_data"
    }
   ],
   "source": [
    "load = np.array(dadosAcoRev.iloc[:,1])\n",
    "tension = (load*1000/(Area_0))     #em tensão MPa\n",
    "deformation = ((np.array(dadosAcoRev.iloc[:,2]))/(GaugeLength))*100   #em porcentagem\n",
    "plt.scatter(x=deformation,y=tension,s=1)\n",
    "plt.title(\"Curva Tensão x Deformação do Aço Revenido\")\n",
    "plt.xlabel(\"Deformação (%)\")\n",
    "plt.ylabel('Tensão (MPa)')\n",
    "plt.tight_layout()\n",
    "plt.axis((0,3,0,1100))\n",
    "plt.grid(True)"
   ]
  },
  {
   "cell_type": "code",
   "execution_count": 169,
   "metadata": {},
   "outputs": [
    {
     "data": {
      "text/plain": [
       "762.5"
      ]
     },
     "execution_count": 169,
     "metadata": {},
     "output_type": "execute_result"
    }
   ],
   "source": [
    "def_plast_final = 1.525\n",
    "limite_escoamento = 1000\n",
    "modResiliencia = (def_plast_final*limite_escoamento)/2\n",
    "modResiliencia"
   ]
  },
  {
   "cell_type": "code",
   "execution_count": 198,
   "metadata": {},
   "outputs": [
    {
     "data": {
      "text/plain": [
       "14647.5"
      ]
     },
     "execution_count": 198,
     "metadata": {},
     "output_type": "execute_result"
    }
   ],
   "source": [
    "limResist = 1076.8\n",
    "along_final = 15.375\n",
    "modTenacidade = modResiliencia + (31.5)*400 + (2.81-1.525)*1000\n",
    "modTenacidade"
   ]
  },
  {
   "cell_type": "code",
   "execution_count": 161,
   "metadata": {},
   "outputs": [
    {
     "data": {
      "text/plain": [
       "array([ 1.93930387e+03, -1.92858904e+03,  1.00000000e+00])"
      ]
     },
     "execution_count": 161,
     "metadata": {},
     "output_type": "execute_result"
    }
   ],
   "source": [
    "deformationA = np.array(deformation)\n",
    "tensionA = np.array(tension)\n",
    "elastico = np.where((deformationA>1.08)&(deformationA<1.5))\n",
    "def objective(x, a, b, c):\n",
    "    return a * x + b\n",
    "param, b = curve_fit(objective, deformationA[elastico], tensionA[elastico])\n",
    "param"
   ]
  },
  {
   "cell_type": "code",
   "execution_count": 199,
   "metadata": {},
   "outputs": [
    {
     "data": {
      "text/html": [
       "<div>\n",
       "<style scoped>\n",
       "    .dataframe tbody tr th:only-of-type {\n",
       "        vertical-align: middle;\n",
       "    }\n",
       "\n",
       "    .dataframe tbody tr th {\n",
       "        vertical-align: top;\n",
       "    }\n",
       "\n",
       "    .dataframe thead th {\n",
       "        text-align: right;\n",
       "    }\n",
       "</style>\n",
       "<table border=\"1\" class=\"dataframe\">\n",
       "  <thead>\n",
       "    <tr style=\"text-align: right;\">\n",
       "      <th></th>\n",
       "      <th>index</th>\n",
       "      <th>Load(kN)</th>\n",
       "      <th>Defor(mm)</th>\n",
       "      <th>Stroke(mm)</th>\n",
       "      <th>Time(s)</th>\n",
       "    </tr>\n",
       "  </thead>\n",
       "  <tbody>\n",
       "    <tr>\n",
       "      <th>0</th>\n",
       "      <td>0</td>\n",
       "      <td>0.00</td>\n",
       "      <td>0.0</td>\n",
       "      <td>0.000</td>\n",
       "      <td>0.000</td>\n",
       "    </tr>\n",
       "    <tr>\n",
       "      <th>1</th>\n",
       "      <td>1</td>\n",
       "      <td>0.00</td>\n",
       "      <td>0.0</td>\n",
       "      <td>0.000</td>\n",
       "      <td>0.055</td>\n",
       "    </tr>\n",
       "    <tr>\n",
       "      <th>2</th>\n",
       "      <td>2</td>\n",
       "      <td>0.00</td>\n",
       "      <td>0.0</td>\n",
       "      <td>0.001</td>\n",
       "      <td>0.115</td>\n",
       "    </tr>\n",
       "    <tr>\n",
       "      <th>3</th>\n",
       "      <td>3</td>\n",
       "      <td>0.00</td>\n",
       "      <td>0.0</td>\n",
       "      <td>0.001</td>\n",
       "      <td>0.175</td>\n",
       "    </tr>\n",
       "    <tr>\n",
       "      <th>4</th>\n",
       "      <td>4</td>\n",
       "      <td>0.02</td>\n",
       "      <td>0.0</td>\n",
       "      <td>0.005</td>\n",
       "      <td>0.235</td>\n",
       "    </tr>\n",
       "  </tbody>\n",
       "</table>\n",
       "</div>"
      ],
      "text/plain": [
       "   index  Load(kN)  Defor(mm)  Stroke(mm)  Time(s)\n",
       "0      0      0.00        0.0       0.000    0.000\n",
       "1      1      0.00        0.0       0.000    0.055\n",
       "2      2      0.00        0.0       0.001    0.115\n",
       "3      3      0.00        0.0       0.001    0.175\n",
       "4      4      0.02        0.0       0.005    0.235"
      ]
     },
     "execution_count": 199,
     "metadata": {},
     "output_type": "execute_result"
    }
   ],
   "source": [
    "dadosAlumSolub = pd.read_csv(\"AlumSolub.csv\",sep=\";\")\n",
    "Area_0 = 50.2655 #mm2\n",
    "D_0 = 8 #mm - Diâmetro\n",
    "GaugeLength =  50.00 #mm2\n",
    "dadosAlumSolub.head()"
   ]
  },
  {
   "cell_type": "code",
   "execution_count": 266,
   "metadata": {},
   "outputs": [
    {
     "data": {
      "image/png": "[encoded data removed]",
      "text/plain": [
       "<Figure size 432x288 with 1 Axes>"
      ]
     },
     "metadata": {
      "needs_background": "light"
     },
     "output_type": "display_data"
    }
   ],
   "source": [
    "load = np.array(dadosAlumSolub.iloc[:,1])\n",
    "tension = (load*1000/(Area_0))     #em tensão MPa\n",
    "deformation = ((np.array(dadosAlumSolub.iloc[:,2]))/(GaugeLength))*100   #em porcentagem\n",
    "plt.scatter(x=deformation,y=tension,s=1)\n",
    "plt.title(\"Curva Tensão x Deformação do Alumínio Solubilizado\")\n",
    "plt.xlabel(\"Deformação (%)\")\n",
    "plt.ylabel('Tensão (MPa)')\n",
    "plt.tight_layout()\n",
    "plt.axis((-1,25,0,220))\n",
    "plt.grid(True)"
   ]
  },
  {
   "cell_type": "code",
   "execution_count": 268,
   "metadata": {},
   "outputs": [
    {
     "data": {
      "text/plain": [
       "3759.5025"
      ]
     },
     "execution_count": 268,
     "metadata": {},
     "output_type": "execute_result"
    }
   ],
   "source": [
    "limEsc = 90.5\n",
    "def_elas_final = 0.21\n",
    "modResiliencia = (limEsc * def_elas_final)/2\n",
    "modTenac = modResiliencia + (25*5)*(16+8+(0.8*6)+1.2)\n",
    "modTenac"
   ]
  },
  {
   "cell_type": "code",
   "execution_count": 217,
   "metadata": {},
   "outputs": [
    {
     "name": "stderr",
     "output_type": "stream",
     "text": [
      "C:\\Users\\mjuli\\anaconda3\\lib\\site-packages\\scipy\\optimize\\minpack.py:828: OptimizeWarning: Covariance of the parameters could not be estimated\n",
      "  warnings.warn('Covariance of the parameters could not be estimated',\n"
     ]
    },
    {
     "data": {
      "text/plain": [
       "array([559.70586669,  -2.94083651,   1.        ])"
      ]
     },
     "execution_count": 217,
     "metadata": {},
     "output_type": "execute_result"
    }
   ],
   "source": [
    "deformationA = np.array(deformation)\n",
    "tensionA = np.array(tension)\n",
    "elastico = np.where((deformationA>0.05)&(deformationA<0.15))\n",
    "def objective(x, a, b, c):\n",
    "    return a * x + b\n",
    "param, b = curve_fit(objective, deformationA[elastico], tensionA[elastico])\n",
    "param"
   ]
  },
  {
   "cell_type": "code",
   "execution_count": 269,
   "metadata": {},
   "outputs": [
    {
     "data": {
      "text/html": [
       "<div>\n",
       "<style scoped>\n",
       "    .dataframe tbody tr th:only-of-type {\n",
       "        vertical-align: middle;\n",
       "    }\n",
       "\n",
       "    .dataframe tbody tr th {\n",
       "        vertical-align: top;\n",
       "    }\n",
       "\n",
       "    .dataframe thead th {\n",
       "        text-align: right;\n",
       "    }\n",
       "</style>\n",
       "<table border=\"1\" class=\"dataframe\">\n",
       "  <thead>\n",
       "    <tr style=\"text-align: right;\">\n",
       "      <th></th>\n",
       "      <th>index</th>\n",
       "      <th>Load(kN)</th>\n",
       "      <th>Defor(mm)</th>\n",
       "      <th>Stroke(mm)</th>\n",
       "      <th>Time(s)</th>\n",
       "    </tr>\n",
       "  </thead>\n",
       "  <tbody>\n",
       "    <tr>\n",
       "      <th>0</th>\n",
       "      <td>0</td>\n",
       "      <td>0.0</td>\n",
       "      <td>0.0</td>\n",
       "      <td>0.000</td>\n",
       "      <td>0.000</td>\n",
       "    </tr>\n",
       "    <tr>\n",
       "      <th>1</th>\n",
       "      <td>1</td>\n",
       "      <td>0.0</td>\n",
       "      <td>0.0</td>\n",
       "      <td>0.000</td>\n",
       "      <td>0.055</td>\n",
       "    </tr>\n",
       "    <tr>\n",
       "      <th>2</th>\n",
       "      <td>2</td>\n",
       "      <td>0.0</td>\n",
       "      <td>0.0</td>\n",
       "      <td>0.000</td>\n",
       "      <td>0.115</td>\n",
       "    </tr>\n",
       "    <tr>\n",
       "      <th>3</th>\n",
       "      <td>3</td>\n",
       "      <td>0.0</td>\n",
       "      <td>0.0</td>\n",
       "      <td>0.000</td>\n",
       "      <td>0.175</td>\n",
       "    </tr>\n",
       "    <tr>\n",
       "      <th>4</th>\n",
       "      <td>4</td>\n",
       "      <td>0.0</td>\n",
       "      <td>0.0</td>\n",
       "      <td>0.004</td>\n",
       "      <td>0.235</td>\n",
       "    </tr>\n",
       "  </tbody>\n",
       "</table>\n",
       "</div>"
      ],
      "text/plain": [
       "   index  Load(kN)  Defor(mm)  Stroke(mm)  Time(s)\n",
       "0      0       0.0        0.0       0.000    0.000\n",
       "1      1       0.0        0.0       0.000    0.055\n",
       "2      2       0.0        0.0       0.000    0.115\n",
       "3      3       0.0        0.0       0.000    0.175\n",
       "4      4       0.0        0.0       0.004    0.235"
      ]
     },
     "execution_count": 269,
     "metadata": {},
     "output_type": "execute_result"
    }
   ],
   "source": [
    "dadosAlumEnvel = pd.read_csv(\"AlumEnvel.csv\",sep=\";\")\n",
    "Area_0 = 51.5300 #mm2\n",
    "D_0 = 8.1 #mm - Diâmetro\n",
    "GaugeLength =  50.00 #mm2\n",
    "dadosAlumEnvel.head()"
   ]
  },
  {
   "cell_type": "code",
   "execution_count": 313,
   "metadata": {},
   "outputs": [
    {
     "data": {
      "image/png": "[encoded data removed]",
      "text/plain": [
       "<Figure size 432x288 with 1 Axes>"
      ]
     },
     "metadata": {
      "needs_background": "light"
     },
     "output_type": "display_data"
    }
   ],
   "source": [
    "load = np.array(dadosAlumEnvel.iloc[:,1])\n",
    "tension = (load*1000/(Area_0))     #em tensão MPa\n",
    "deformation = ((np.array(dadosAlumEnvel.iloc[:,2]))/(GaugeLength))*100   #em porcentagem\n",
    "plt.scatter(x=deformation,y=tension,s=1)\n",
    "plt.title(\"Curva Tensão x Deformação do Alumínio Envelhecido\")\n",
    "plt.xlabel(\"Deformação (%)\")\n",
    "plt.ylabel('Tensão (MPa)')\n",
    "plt.tight_layout()\n",
    "plt.axis((-0.2,13,0,340))\n",
    "plt.grid(True)"
   ]
  },
  {
   "cell_type": "code",
   "execution_count": 343,
   "metadata": {},
   "outputs": [
    {
     "data": {
      "text/plain": [
       "73.93825"
      ]
     },
     "execution_count": 343,
     "metadata": {},
     "output_type": "execute_result"
    }
   ],
   "source": [
    "limEsc = 304.9\n",
    "def_elas_final = 0.485\n",
    "modResiliencia = (limEsc * def_elas_final)/2\n",
    "modTenac = -modResiliencia +(50*2)*(30+9+2+2)\n",
    "modTenac\n",
    "modResiliencia"
   ]
  },
  {
   "cell_type": "code",
   "execution_count": 275,
   "metadata": {},
   "outputs": [
    {
     "data": {
      "text/plain": [
       "array([672.63744815,  25.93723649,   1.        ])"
      ]
     },
     "execution_count": 275,
     "metadata": {},
     "output_type": "execute_result"
    }
   ],
   "source": [
    "deformationA = np.array(deformation)\n",
    "tensionA = np.array(tension)\n",
    "elastico = np.where((deformationA>0.1)&(deformationA<0.4))\n",
    "def objective(x, a, b, c):\n",
    "    return a * x + b\n",
    "param, b = curve_fit(objective, deformationA[elastico], tensionA[elastico])\n",
    "param"
   ]
  },
  {
   "cell_type": "code",
   "execution_count": 450,
   "metadata": {},
   "outputs": [
    {
     "data": {
      "text/html": [
       "<div>\n",
       "<style scoped>\n",
       "    .dataframe tbody tr th:only-of-type {\n",
       "        vertical-align: middle;\n",
       "    }\n",
       "\n",
       "    .dataframe tbody tr th {\n",
       "        vertical-align: top;\n",
       "    }\n",
       "\n",
       "    .dataframe thead th {\n",
       "        text-align: right;\n",
       "    }\n",
       "</style>\n",
       "<table border=\"1\" class=\"dataframe\">\n",
       "  <thead>\n",
       "    <tr style=\"text-align: right;\">\n",
       "      <th></th>\n",
       "      <th>Order</th>\n",
       "      <th>Load(kN)</th>\n",
       "      <th>Defor(mm)</th>\n",
       "      <th>Stroke(mm)</th>\n",
       "      <th>Time(s)</th>\n",
       "    </tr>\n",
       "  </thead>\n",
       "  <tbody>\n",
       "    <tr>\n",
       "      <th>0</th>\n",
       "      <td>0</td>\n",
       "      <td>0.00</td>\n",
       "      <td>0.0000</td>\n",
       "      <td>0.000</td>\n",
       "      <td>0.000</td>\n",
       "    </tr>\n",
       "    <tr>\n",
       "      <th>1</th>\n",
       "      <td>1</td>\n",
       "      <td>0.00</td>\n",
       "      <td>0.0000</td>\n",
       "      <td>0.000</td>\n",
       "      <td>0.055</td>\n",
       "    </tr>\n",
       "    <tr>\n",
       "      <th>2</th>\n",
       "      <td>2</td>\n",
       "      <td>0.00</td>\n",
       "      <td>0.0162</td>\n",
       "      <td>0.016</td>\n",
       "      <td>0.115</td>\n",
       "    </tr>\n",
       "    <tr>\n",
       "      <th>3</th>\n",
       "      <td>3</td>\n",
       "      <td>0.02</td>\n",
       "      <td>0.0362</td>\n",
       "      <td>0.036</td>\n",
       "      <td>0.175</td>\n",
       "    </tr>\n",
       "    <tr>\n",
       "      <th>4</th>\n",
       "      <td>4</td>\n",
       "      <td>0.02</td>\n",
       "      <td>0.0562</td>\n",
       "      <td>0.056</td>\n",
       "      <td>0.235</td>\n",
       "    </tr>\n",
       "  </tbody>\n",
       "</table>\n",
       "</div>"
      ],
      "text/plain": [
       "   Order  Load(kN)  Defor(mm)  Stroke(mm)  Time(s)\n",
       "0      0      0.00     0.0000       0.000    0.000\n",
       "1      1      0.00     0.0000       0.000    0.055\n",
       "2      2      0.00     0.0162       0.016    0.115\n",
       "3      3      0.02     0.0362       0.036    0.175\n",
       "4      4      0.02     0.0562       0.056    0.235"
      ]
     },
     "execution_count": 450,
     "metadata": {},
     "output_type": "execute_result"
    }
   ],
   "source": [
    "dadosPolim20 = pd.read_csv(\"Polim20.csv\",sep=\";\")\n",
    "Area_0 = 18 #mm2\n",
    "D_0 = 3.00 #mm - Diâmetro\n",
    "GaugeLength =  25 #mm2\n",
    "dadosPolim20.head()"
   ]
  },
  {
   "cell_type": "code",
   "execution_count": 451,
   "metadata": {},
   "outputs": [
    {
     "data": {
      "image/png": "[encoded data removed]",
      "text/plain": [
       "<Figure size 432x288 with 1 Axes>"
      ]
     },
     "metadata": {
      "needs_background": "light"
     },
     "output_type": "display_data"
    }
   ],
   "source": [
    "load = np.array(dadosPolim20.iloc[:,1])\n",
    "tension = (load*1000/(Area_0))     #em tensão MPa\n",
    "deformation = ((np.array(dadosPolim20.iloc[:,2]))/(GaugeLength))*100   #em porcentagem\n",
    "plt.scatter(x=deformation,y=tension,s=4)\n",
    "plt.title(\"Curva Tensão x Deformação do Polímero 20 mm/min\")\n",
    "plt.xlabel(\"Deformação (%)\")\n",
    "plt.ylabel('Tensão (MPa)')\n",
    "plt.tight_layout()\n",
    "plt.axis((-20,740,0,28))\n",
    "plt.grid(True)"
   ]
  },
  {
   "cell_type": "code",
   "execution_count": 387,
   "metadata": {},
   "outputs": [
    {
     "data": {
      "text/plain": [
       "array([2.60663934, 6.47100368, 1.        ])"
      ]
     },
     "execution_count": 387,
     "metadata": {},
     "output_type": "execute_result"
    }
   ],
   "source": [
    "deformationA = np.array(deformation)\n",
    "tensionA = np.array(tension)\n",
    "elastico = np.where((deformationA>1)&(deformationA<8.5))\n",
    "def objective(x, a, b, c):\n",
    "    return a * x + b\n",
    "param, b = curve_fit(objective, deformationA[elastico], tensionA[elastico])\n",
    "param"
   ]
  },
  {
   "cell_type": "code",
   "execution_count": 452,
   "metadata": {},
   "outputs": [
    {
     "data": {
      "text/html": [
       "<div>\n",
       "<style scoped>\n",
       "    .dataframe tbody tr th:only-of-type {\n",
       "        vertical-align: middle;\n",
       "    }\n",
       "\n",
       "    .dataframe tbody tr th {\n",
       "        vertical-align: top;\n",
       "    }\n",
       "\n",
       "    .dataframe thead th {\n",
       "        text-align: right;\n",
       "    }\n",
       "</style>\n",
       "<table border=\"1\" class=\"dataframe\">\n",
       "  <thead>\n",
       "    <tr style=\"text-align: right;\">\n",
       "      <th></th>\n",
       "      <th>Order</th>\n",
       "      <th>Load(kN)</th>\n",
       "      <th>Defor(mm)</th>\n",
       "      <th>Stroke(mm)</th>\n",
       "      <th>Time(s)</th>\n",
       "    </tr>\n",
       "  </thead>\n",
       "  <tbody>\n",
       "    <tr>\n",
       "      <th>0</th>\n",
       "      <td>0</td>\n",
       "      <td>0.00</td>\n",
       "      <td>0.0000</td>\n",
       "      <td>0.000</td>\n",
       "      <td>0.000</td>\n",
       "    </tr>\n",
       "    <tr>\n",
       "      <th>1</th>\n",
       "      <td>1</td>\n",
       "      <td>0.00</td>\n",
       "      <td>0.0000</td>\n",
       "      <td>0.000</td>\n",
       "      <td>0.055</td>\n",
       "    </tr>\n",
       "    <tr>\n",
       "      <th>2</th>\n",
       "      <td>2</td>\n",
       "      <td>0.00</td>\n",
       "      <td>0.0162</td>\n",
       "      <td>0.016</td>\n",
       "      <td>0.115</td>\n",
       "    </tr>\n",
       "    <tr>\n",
       "      <th>3</th>\n",
       "      <td>3</td>\n",
       "      <td>0.02</td>\n",
       "      <td>0.0362</td>\n",
       "      <td>0.036</td>\n",
       "      <td>0.175</td>\n",
       "    </tr>\n",
       "    <tr>\n",
       "      <th>4</th>\n",
       "      <td>4</td>\n",
       "      <td>0.02</td>\n",
       "      <td>0.0562</td>\n",
       "      <td>0.056</td>\n",
       "      <td>0.235</td>\n",
       "    </tr>\n",
       "  </tbody>\n",
       "</table>\n",
       "</div>"
      ],
      "text/plain": [
       "   Order  Load(kN)  Defor(mm)  Stroke(mm)  Time(s)\n",
       "0      0      0.00     0.0000       0.000    0.000\n",
       "1      1      0.00     0.0000       0.000    0.055\n",
       "2      2      0.00     0.0162       0.016    0.115\n",
       "3      3      0.02     0.0362       0.036    0.175\n",
       "4      4      0.02     0.0562       0.056    0.235"
      ]
     },
     "execution_count": 452,
     "metadata": {},
     "output_type": "execute_result"
    }
   ],
   "source": [
    "dadosPolim50 = pd.read_csv(\"Polim50.csv\",sep=\";\")\n",
    "Area_0 = 18 #mm2\n",
    "D_0 = 3.00 #mm - Diâmetro\n",
    "GaugeLength =  25 #mm2\n",
    "dadosPolim20.head()"
   ]
  },
  {
   "cell_type": "code",
   "execution_count": 459,
   "metadata": {},
   "outputs": [
    {
     "data": {
      "image/png": "[encoded data removed]",
      "text/plain": [
       "<Figure size 432x288 with 1 Axes>"
      ]
     },
     "metadata": {
      "needs_background": "light"
     },
     "output_type": "display_data"
    }
   ],
   "source": [
    "load = np.array(dadosPolim50.iloc[:,1])\n",
    "tension = (load*1000/(Area_0))     #em tensão MPa\n",
    "deformation = ((np.array(dadosPolim50.iloc[:,2]))/(GaugeLength))*100   #em porcentagem\n",
    "plt.scatter(x=deformation,y=tension,s=4)\n",
    "plt.title(\"Curva Tensão x Deformação do Polímero 50 mm/min\")\n",
    "plt.xlabel(\"Deformação (%)\")\n",
    "plt.ylabel('Tensão (MPa)')\n",
    "plt.tight_layout()\n",
    "plt.axis((-20,750,0,30))\n",
    "plt.grid(True)"
   ]
  },
  {
   "cell_type": "code",
   "execution_count": 429,
   "metadata": {},
   "outputs": [
    {
     "data": {
      "text/plain": [
       "array([2.72610453, 4.878161  , 1.        ])"
      ]
     },
     "execution_count": 429,
     "metadata": {},
     "output_type": "execute_result"
    }
   ],
   "source": [
    "deformationA = np.array(deformation)\n",
    "tensionA = np.array(tension)\n",
    "elastico = np.where((deformationA>1)&(deformationA<8))\n",
    "def objective(x, a, b, c):\n",
    "    return a * x + b\n",
    "param, b = curve_fit(objective, deformationA[elastico], tensionA[elastico])\n",
    "param"
   ]
  },
  {
   "cell_type": "code",
   "execution_count": 403,
   "metadata": {},
   "outputs": [
    {
     "data": {
      "text/html": [
       "<div>\n",
       "<style scoped>\n",
       "    .dataframe tbody tr th:only-of-type {\n",
       "        vertical-align: middle;\n",
       "    }\n",
       "\n",
       "    .dataframe tbody tr th {\n",
       "        vertical-align: top;\n",
       "    }\n",
       "\n",
       "    .dataframe thead th {\n",
       "        text-align: right;\n",
       "    }\n",
       "</style>\n",
       "<table border=\"1\" class=\"dataframe\">\n",
       "  <thead>\n",
       "    <tr style=\"text-align: right;\">\n",
       "      <th></th>\n",
       "      <th>Order</th>\n",
       "      <th>Load(kN)</th>\n",
       "      <th>Defor(mm)</th>\n",
       "      <th>Stroke(mm)</th>\n",
       "      <th>Time(s)</th>\n",
       "    </tr>\n",
       "  </thead>\n",
       "  <tbody>\n",
       "    <tr>\n",
       "      <th>0</th>\n",
       "      <td>0</td>\n",
       "      <td>0.00</td>\n",
       "      <td>0.0000</td>\n",
       "      <td>0.000</td>\n",
       "      <td>0.000</td>\n",
       "    </tr>\n",
       "    <tr>\n",
       "      <th>1</th>\n",
       "      <td>1</td>\n",
       "      <td>0.00</td>\n",
       "      <td>0.0000</td>\n",
       "      <td>0.000</td>\n",
       "      <td>0.055</td>\n",
       "    </tr>\n",
       "    <tr>\n",
       "      <th>2</th>\n",
       "      <td>2</td>\n",
       "      <td>0.00</td>\n",
       "      <td>0.0162</td>\n",
       "      <td>0.016</td>\n",
       "      <td>0.115</td>\n",
       "    </tr>\n",
       "    <tr>\n",
       "      <th>3</th>\n",
       "      <td>3</td>\n",
       "      <td>0.02</td>\n",
       "      <td>0.0362</td>\n",
       "      <td>0.036</td>\n",
       "      <td>0.175</td>\n",
       "    </tr>\n",
       "    <tr>\n",
       "      <th>4</th>\n",
       "      <td>4</td>\n",
       "      <td>0.02</td>\n",
       "      <td>0.0562</td>\n",
       "      <td>0.056</td>\n",
       "      <td>0.235</td>\n",
       "    </tr>\n",
       "  </tbody>\n",
       "</table>\n",
       "</div>"
      ],
      "text/plain": [
       "   Order  Load(kN)  Defor(mm)  Stroke(mm)  Time(s)\n",
       "0      0      0.00     0.0000       0.000    0.000\n",
       "1      1      0.00     0.0000       0.000    0.055\n",
       "2      2      0.00     0.0162       0.016    0.115\n",
       "3      3      0.02     0.0362       0.036    0.175\n",
       "4      4      0.02     0.0562       0.056    0.235"
      ]
     },
     "execution_count": 403,
     "metadata": {},
     "output_type": "execute_result"
    }
   ],
   "source": [
    "dadosPolim100 = pd.read_csv(\"Polim100.csv\",sep=\";\")\n",
    "Area_0 = 19.6350 #mm2\n",
    "D_0 = 6.00 #mm - Diâmetro\n",
    "GaugeLength =  25 #mm2\n",
    "dadosPolim20.head()"
   ]
  },
  {
   "cell_type": "code",
   "execution_count": 406,
   "metadata": {},
   "outputs": [
    {
     "data": {
      "image/png": "[encoded data removed]",
      "text/plain": [
       "<Figure size 432x288 with 1 Axes>"
      ]
     },
     "metadata": {
      "needs_background": "light"
     },
     "output_type": "display_data"
    }
   ],
   "source": [
    "load = np.array(dadosPolim100.iloc[:,1])\n",
    "tension = (load*1000/(Area_0))     #em tensão MPa\n",
    "deformation = ((np.array(dadosPolim100.iloc[:,2]))/(GaugeLength))*100   #em porcentagem\n",
    "plt.scatter(x=deformation,y=tension,s=5)\n",
    "plt.title(\"Curva Tensão x Deformação do Polímero 100 mm/min detalhado\")\n",
    "plt.xlabel(\"Deformação (%)\")\n",
    "plt.ylabel('Tensão (MPa)')\n",
    "plt.tight_layout()\n",
    "plt.axis((2.77,2.84,0,35))\n",
    "plt.grid(True)"
   ]
  }
 ],
 "metadata": {
  "kernelspec": {
   "display_name": "Python 3",
   "language": "python",
   "name": "python3"
  },
  "language_info": {
   "codemirror_mode": {
    "name": "ipython",
    "version": 3
   },
   "file_extension": ".py",
   "mimetype": "text/x-python",
   "name": "python",
   "nbconvert_exporter": "python",
   "pygments_lexer": "ipython3",
   "version": "3.8.5"
  }
 },
 "nbformat": 4,
 "nbformat_minor": 4
}
