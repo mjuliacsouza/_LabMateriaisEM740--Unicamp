{
 "cells": [
  {
   "cell_type": "code",
   "execution_count": 1,
   "metadata": {},
   "outputs": [],
   "source": [
    "import pandas as pd\n",
    "import seaborn as srn\n",
    "import statistics  as sts\n",
    "import matplotlib.pyplot as plt"
   ]
  },
  {
   "cell_type": "code",
   "execution_count": 2,
   "metadata": {},
   "outputs": [],
   "source": [
    "liga2024EN = pd.read_csv(\"liga2024envnatural.csv\",sep=\";\")\n",
    "liga2024EA = pd.read_csv(\"liga2024envartificial.csv\",sep=\";\")\n",
    "liga6351EN = pd.read_csv(\"liga6351envnatural.csv\",sep=\";\")\n",
    "liga6351EA = pd.read_csv(\"liga6351envarticial.csv\",sep=\";\")"
   ]
  },
  {
   "cell_type": "code",
   "execution_count": 3,
   "metadata": {
    "scrolled": false
   },
   "outputs": [
    {
     "data": {
      "text/html": [
       "<div>\n",
       "<style scoped>\n",
       "    .dataframe tbody tr th:only-of-type {\n",
       "        vertical-align: middle;\n",
       "    }\n",
       "\n",
       "    .dataframe tbody tr th {\n",
       "        vertical-align: top;\n",
       "    }\n",
       "\n",
       "    .dataframe thead th {\n",
       "        text-align: right;\n",
       "    }\n",
       "</style>\n",
       "<table border=\"1\" class=\"dataframe\">\n",
       "  <thead>\n",
       "    <tr style=\"text-align: right;\">\n",
       "      <th></th>\n",
       "      <th>medicao</th>\n",
       "      <th>solub</th>\n",
       "      <th>30min</th>\n",
       "      <th>90min</th>\n",
       "      <th>1dia</th>\n",
       "      <th>1sem</th>\n",
       "    </tr>\n",
       "  </thead>\n",
       "  <tbody>\n",
       "    <tr>\n",
       "      <th>0</th>\n",
       "      <td>1</td>\n",
       "      <td>18</td>\n",
       "      <td>22</td>\n",
       "      <td>25</td>\n",
       "      <td>53</td>\n",
       "      <td>58</td>\n",
       "    </tr>\n",
       "    <tr>\n",
       "      <th>1</th>\n",
       "      <td>2</td>\n",
       "      <td>17</td>\n",
       "      <td>23</td>\n",
       "      <td>25</td>\n",
       "      <td>50</td>\n",
       "      <td>59</td>\n",
       "    </tr>\n",
       "    <tr>\n",
       "      <th>2</th>\n",
       "      <td>3</td>\n",
       "      <td>19</td>\n",
       "      <td>24</td>\n",
       "      <td>27</td>\n",
       "      <td>53</td>\n",
       "      <td>58</td>\n",
       "    </tr>\n",
       "  </tbody>\n",
       "</table>\n",
       "</div>"
      ],
      "text/plain": [
       "   medicao  solub  30min  90min  1dia  1sem\n",
       "0        1     18     22     25    53    58\n",
       "1        2     17     23     25    50    59\n",
       "2        3     19     24     27    53    58"
      ]
     },
     "execution_count": 3,
     "metadata": {},
     "output_type": "execute_result"
    }
   ],
   "source": [
    "liga2024EN"
   ]
  },
  {
   "cell_type": "code",
   "execution_count": 4,
   "metadata": {},
   "outputs": [],
   "source": [
    "liga2024EN.columns = ['Med','Solub','30m','90m','1d','1s']\n",
    "liga6351EN.columns = ['Med','Solub','30m','90m','1d','1s']"
   ]
  },
  {
   "cell_type": "code",
   "execution_count": 5,
   "metadata": {},
   "outputs": [
    {
     "data": {
      "text/plain": [
       "count     3.0\n",
       "mean     18.0\n",
       "std       1.0\n",
       "min      17.0\n",
       "25%      17.5\n",
       "50%      18.0\n",
       "75%      18.5\n",
       "max      19.0\n",
       "Name: Solub, dtype: float64"
      ]
     },
     "execution_count": 5,
     "metadata": {},
     "output_type": "execute_result"
    }
   ],
   "source": [
    "liga2024EN['Solub'].describe()"
   ]
  },
  {
   "cell_type": "code",
   "execution_count": 6,
   "metadata": {},
   "outputs": [
    {
     "data": {
      "text/plain": [
       "Text(0, 0.5, '')"
      ]
     },
     "execution_count": 6,
     "metadata": {},
     "output_type": "execute_result"
    },
    {
     "data": {
      "image/png": "[encoded data removed]",
      "text/plain": [
       "<Figure size 432x288 with 2 Axes>"
      ]
     },
     "metadata": {
      "needs_background": "light"
     },
     "output_type": "display_data"
    }
   ],
   "source": [
    "plt.figure(1)\n",
    "plt.subplot(2,2,1)\n",
    "srn.boxplot(y=liga2024EN['Solub'])\n",
    "plt.ylabel(\"Dureza HRB\")\n",
    "plt.xlabel(\"Solubilização\")\n",
    "plt.subplot(2,2,2)\n",
    "srn.boxplot(y=liga2024EN['30m'])\n",
    "plt.xlabel(\"Após 30 minutos\")\n",
    "plt.ylabel(\"\")"
   ]
  },
  {
   "cell_type": "code",
   "execution_count": 25,
   "metadata": {},
   "outputs": [
    {
     "data": {
      "text/plain": [
       "<AxesSubplot:>"
      ]
     },
     "execution_count": 25,
     "metadata": {},
     "output_type": "execute_result"
    },
    {
     "data": {
      "image/png": "[encoded data removed]",
      "text/plain": [
       "<Figure size 432x288 with 4 Axes>"
      ]
     },
     "metadata": {
      "needs_background": "light"
     },
     "output_type": "display_data"
    }
   ],
   "source": [
    "plt.figure(1)\n",
    "plt.subplot(3,2,1)\n",
    "srn.boxplot(data = liga2024EN.iloc[:,1:6],color='yellow')\n",
    "plt.subplot(3,2,2)\n",
    "srn.boxplot(data = liga2024EA.iloc[:,1:5],color='red')\n",
    "plt.subplot(3,2,3)\n",
    "srn.boxplot(data = liga6351EN.iloc[:,1:6],color='green')\n",
    "plt.subplot(3,2,4)\n",
    "srn.boxplot(data = liga6351EA.iloc[:,1:5],color='blue')\n"
   ]
  },
  {
   "cell_type": "code",
   "execution_count": 17,
   "metadata": {},
   "outputs": [],
   "source": [
    "#srn.catplot(data = liga2024EN.iloc[:,1:6],jitter = False)\n",
    "#srn.catplot(data = liga2024EA.iloc[:,1:5],jitter = False)\n",
    "#srn.catplot(data = liga6351EN.iloc[:,1:6],jitter = False)\n",
    "#srn.catplot(data = liga6351EA.iloc[:,1:5],jitter = False)"
   ]
  },
  {
   "cell_type": "code",
   "execution_count": null,
   "metadata": {},
   "outputs": [],
   "source": []
  }
 ],
 "metadata": {
  "kernelspec": {
   "display_name": "Python 3",
   "language": "python",
   "name": "python3"
  },
  "language_info": {
   "codemirror_mode": {
    "name": "ipython",
    "version": 3
   },
   "file_extension": ".py",
   "mimetype": "text/x-python",
   "name": "python",
   "nbconvert_exporter": "python",
   "pygments_lexer": "ipython3",
   "version": "3.8.5"
  }
 },
 "nbformat": 4,
 "nbformat_minor": 4
}
